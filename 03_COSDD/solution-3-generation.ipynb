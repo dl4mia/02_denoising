{
 "cells": [
  {
   "cell_type": "markdown",
   "metadata": {},
   "source": [
    "# Exercise 3. Generating new images with COSDD\n",
    "\n",
    "As mentioned in the training.ipynb notebook, COSDD is a deep generative model that captures the structures and characteristics of our data. In this notebook, we'll see how accurately it can represent our training data, in both the signal and the noise."
   ]
  },
  {
   "cell_type": "code",
   "execution_count": null,
   "metadata": {},
   "outputs": [],
   "source": [
    "import os\n",
    "\n",
    "import tifffile\n",
    "import torch\n",
    "import matplotlib.pyplot as plt\n",
    "import numpy as np\n",
    "\n",
    "import utils\n",
    "from hub import Hub\n",
    "\n",
    "%matplotlib inline"
   ]
  },
  {
   "cell_type": "code",
   "execution_count": null,
   "metadata": {},
   "outputs": [],
   "source": [
    "device = torch.device(\"cuda\" if torch.cuda.is_available() else \"cpu\")"
   ]
  },
  {
   "cell_type": "markdown",
   "metadata": {},
   "source": [
    "### 3.1. Load trained model and clean and noisy data"
   ]
  },
  {
   "cell_type": "markdown",
   "metadata": {},
   "source": [
    "<div class=\"alert alert-info\">\n",
    "\n",
    "### Task 3.1.\n",
    "\n",
    "Load the model trained in the first notebook by entering your `model_name`, or alternatively uncomment line 4 to load the pretrained model.\n",
    "</div>"
   ]
  },
  {
   "cell_type": "code",
   "execution_count": null,
   "metadata": {},
   "outputs": [],
   "source": [
    "model_name = \"penicillium\"    # Insert a value here   \n",
    "checkpoint_path = os.path.join(\"checkpoints\", model_name)\n",
    "\n",
    "# checkpoint_path = \"pretrained_penicillium\"\n",
    "\n",
    "hub = Hub.load_from_checkpoint(os.path.join(checkpoint_path, \"final_model.ckpt\")).to(device)"
   ]
  },
  {
   "cell_type": "code",
   "execution_count": null,
   "metadata": {},
   "outputs": [],
   "source": [
    "low_snr_path = \"/group/dl4miacourse/image_regression/penicillium/penicillium_low_snr.tif\"\n",
    "\n",
    "low_snr = tifffile.imread(low_snr_path)[:, None]\n",
    "low_snr = torch.from_numpy(low_snr.astype(float)).to(torch.float)\n",
    "print(low_snr.shape)"
   ]
  },
  {
   "cell_type": "markdown",
   "metadata": {},
   "source": [
    "### 3.2. Generating new noise for a real noisy image\n",
    "\n",
    "First, we'll pass a noisy image to the VAE and generate a random sample from the AR decoder. This will give us another noisy image with the same underlying clean signal but a different random sample of noise."
   ]
  },
  {
   "cell_type": "code",
   "execution_count": null,
   "metadata": {},
   "outputs": [],
   "source": [
    "inp_image = low_snr[500:501, :, :512, :512].to(device)\n",
    "reconstructions = hub.reconstruct(inp_image)\n",
    "denoised = reconstructions[\"s_hat\"].cpu()\n",
    "noisy = reconstructions[\"x_hat\"].cpu()"
   ]
  },
  {
   "cell_type": "code",
   "execution_count": null,
   "metadata": {},
   "outputs": [],
   "source": [
    "vmin = np.percentile(inp_image.cpu().numpy(), 0.1)\n",
    "vmax = np.percentile(inp_image.cpu().numpy(), 99.9)"
   ]
  },
  {
   "cell_type": "markdown",
   "metadata": {},
   "source": [
    "<div class=\"alert alert-info\">\n",
    "\n",
    "### Task 3.2.\n",
    "\n",
    "Now we will look at the original noisy image and the generated noisy image. Adjust `top`, `bottom`, `left` and `right` to view different crops of the reconstructed image.\n",
    "\n",
    "</div>"
   ]
  },
  {
   "cell_type": "code",
   "execution_count": null,
   "metadata": {},
   "outputs": [],
   "source": [
    "top = 0\n",
    "bottom = 512\n",
    "left = 0\n",
    "right = 512\n",
    "\n",
    "crop = (0, slice(top, bottom), slice(left, right))\n",
    "\n",
    "fig, ax = plt.subplots(1, 3, figsize=(12, 4))\n",
    "ax[0].imshow(inp_image[0][crop].cpu(), vmin=vmin, vmax=vmax)\n",
    "ax[0].set_title(\"Original noisy image\")\n",
    "ax[1].imshow(noisy[0][crop], vmin=vmin, vmax=vmax)\n",
    "ax[1].set_title(\"Generated noisy image\")\n",
    "ax[2].imshow(denoised[0][crop], vmin=vmin, vmax=vmax)\n",
    "ax[2].set_title(\"Denoised image\")\n",
    "\n",
    "plt.show()"
   ]
  },
  {
   "cell_type": "markdown",
   "metadata": {},
   "source": [
    "The spatial correlation of the generated noise can be compared to that of the real noise to get an idea of how accurate the model is. Since we have the denoised version of the generated image, we can get a noise sample by just subtracting it from the noisy versions."
   ]
  },
  {
   "cell_type": "code",
   "execution_count": null,
   "metadata": {},
   "outputs": [],
   "source": [
    "real_noise = low_snr[-1, 0, :200, :200]\n",
    "generated_noise = noisy[0, 0] - denoised[0, 0]\n",
    "\n",
    "real_ac = utils.autocorrelation(real_noise, max_lag=25)\n",
    "generated_ac = utils.autocorrelation(generated_noise, max_lag=25)\n",
    "\n",
    "fig, ax = plt.subplots(1, 2, figsize=(12, 5))\n",
    "ac1 = ax[0].imshow(real_ac, cmap=\"seismic\", vmin=-1, vmax=1)\n",
    "ax[0].set_title(\"Autocorrelation of real noise\")\n",
    "ax[0].set_xlabel(\"Horizontal lag\")\n",
    "ax[0].set_ylabel(\"Vertical lag\")\n",
    "ac2 = ax[1].imshow(generated_ac, cmap=\"seismic\", vmin=-1, vmax=1)\n",
    "ax[1].set_title(\"Autocorrelation of generated noise\")\n",
    "ax[1].set_xlabel(\"Horizontal lag\")\n",
    "ax[1].set_ylabel(\"Vertical lag\")\n",
    "\n",
    "fig.colorbar(ac2, fraction=0.045)\n",
    "plt.show()"
   ]
  },
  {
   "cell_type": "markdown",
   "metadata": {},
   "source": [
    "### 3.3. Generating new images\n",
    "\n",
    "This time, we'll generate a sample from the VAE's prior and use the two decoders to reveal a brand new clean image and its noisy version."
   ]
  },
  {
   "cell_type": "code",
   "execution_count": null,
   "metadata": {},
   "outputs": [],
   "source": [
    "n_imgs = 1\n",
    "reconstructions = hub.sample_prior(n_imgs=n_imgs)\n",
    "denoised = reconstructions[\"s\"].cpu()\n",
    "noisy = reconstructions[\"x\"].cpu()"
   ]
  },
  {
   "cell_type": "code",
   "execution_count": null,
   "metadata": {},
   "outputs": [],
   "source": [
    "top = 0\n",
    "bottom = 256\n",
    "left = 0\n",
    "right = 256\n",
    "\n",
    "crop = (0, slice(top, bottom), slice(left, right))\n",
    "\n",
    "fig, ax = plt.subplots(1, 2, figsize=(8, 4))\n",
    "ax[0].imshow(noisy[0][crop], vmin=vmin, vmax=vmax)\n",
    "ax[0].set_title(\"Generated noisy image\")\n",
    "ax[1].imshow(denoised[0][crop], vmin=vmin, vmax=vmax)\n",
    "ax[1].set_title(\"Generated clean image\")\n",
    "\n",
    "plt.show()"
   ]
  },
  {
   "cell_type": "markdown",
   "metadata": {},
   "source": [
    "<div class=\"alert alert-success\">\n",
    "\n",
    "### Checkpoint 3\n",
    "\n",
    "You've finished this module on COSDD.\n",
    "\n",
    "</div>"
   ]
  },
  {
   "cell_type": "code",
   "execution_count": null,
   "metadata": {},
   "outputs": [],
   "source": []
  }
 ],
 "metadata": {
  "kernelspec": {
   "display_name": "Python 3 (ipykernel)",
   "language": "python",
   "name": "python3"
  },
  "language_info": {
   "codemirror_mode": {
    "name": "ipython",
    "version": 3
   },
   "file_extension": ".py",
   "mimetype": "text/x-python",
   "name": "python",
   "nbconvert_exporter": "python",
   "pygments_lexer": "ipython3",
   "version": "3.11.9"
  }
 },
 "nbformat": 4,
 "nbformat_minor": 4
}
