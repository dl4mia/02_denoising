{
 "cells": [
  {
   "attachments": {},
   "cell_type": "markdown",
   "metadata": {},
   "source": [
    "# Noise2Void\n",
    "\n",
    "In the first exercise, we denoised images with CARE using supervised training. As \n",
    "discussed during the lecture, ground-truth data is not always available in life \n",
    "sciences. But no panic, Noise2Void is here to help!\n",
    "\n",
    "Indeed Noise2Void is a self-supervised algorithm, meaning that it trains on the data\n",
    "itself and does not require clean images. The idea is to predict the value of a masked\n",
    "pixels based on the information from the surrounding pixels. Two underlying hypothesis\n",
    "allow N2V to work: the structures are continuous and the noise is pixel-independent, \n",
    "that is to say the amount of noise in one pixel is independent from the amount of noise\n",
    "in the surrounding pixels. Fortunately for us, it is very often the case in microscopy images!\n",
    "\n",
    "If N2V does not require pairs of noisy and clean images, then how does it train?\n",
    "\n",
    "First it selects random pixels in each patch, then it masks them. The masking is \n",
    "not done by setting their value to 0 (which could disturb the network since it is an\n",
    "unexpected value) but by replacing the value with that of one of the neighboring pixels.\n",
    "\n",
    "Then, the network is trained to predict the value of the masked pixels. Since the masked\n",
    "value is different from the original value, the network needs to use the information\n",
    "contained in all the pixels surrounding the masked pixel. If the noise is pixel-independent,\n",
    "then the network cannot predict the amount of noise in the original pixel and it ends\n",
    "up predicting a value close to the \"clean\", or denoised, value.\n",
    "\n",
    "In this notebook, we will an existing library called [Careamics](https://careamics.github.io)\n",
    "that includes N2V and other algorithms:\n",
    "\n",
    "<p align=\"center\">\n",
    "    <img src=\"https://raw.githubusercontent.com/CAREamics/.github/main/profile/images/banner_careamics.png\" width=400>\n",
    "</p>\n",
    "\n",
    "\n",
    "## References\n",
    "\n",
    "- Alexander Krull, Tim-Oliver Buchholz, and Florian Jug. \"[Noise2Void - learning denoising from single noisy images.](https://openaccess.thecvf.com/content_CVPR_2019/html/Krull_Noise2Void_-_Learning_Denoising_From_Single_Noisy_Images_CVPR_2019_paper.html)\" Proceedings of the IEEE/CVF conference on Computer Vision and Pattern Recognition, 2019.\n",
    "- Joshua Batson, and Loic Royer. \"[Noise2self: Blind denoising by self-supervision.](http://proceedings.mlr.press/v97/batson19a.html)\" International Conference on Machine Learning. PMLR, 2019."
   ]
  },
  {
   "attachments": {},
   "cell_type": "markdown",
   "metadata": {},
   "source": [
    "\n",
    "<div class=\"alert alert-block alert-success\"><h3>Objectives</h3>\n",
    "    \n",
    "- Understand how N2V masks pixels for training\n",
    "- Learn how to use CAREamics to train N2V\n",
    "- Think about pixel noise and noise correlation\n",
    "  \n",
    "</div>\n"
   ]
  },
  {
   "cell_type": "markdown",
   "metadata": {},
   "source": [
    "### Mandatory actions\n"
   ]
  },
  {
   "attachments": {},
   "cell_type": "markdown",
   "metadata": {},
   "source": [
    "<div class=\"alert alert-danger\">\n",
    "Set your python kernel to <code>02_regression</code> <br>\n",
    "</div>\n"
   ]
  },
  {
   "cell_type": "code",
   "execution_count": null,
   "metadata": {},
   "outputs": [],
   "source": [
    "import shutil\n",
    "from pathlib import Path\n",
    "\n",
    "import numpy as np\n",
    "import matplotlib.pyplot as plt\n",
    "import tifffile\n",
    "from careamics_portfolio import PortfolioManager\n",
    "\n",
    "from careamics import CAREamist\n",
    "from careamics.config import (\n",
    "    create_n2v_configuration,\n",
    ")\n",
    "from careamics.transforms import N2VManipulate"
   ]
  },
  {
   "cell_type": "markdown",
   "metadata": {},
   "source": [
    "\n",
    "<hr style=\"height:2px;\">\n",
    "\n",
    "## Part 1 Visualize the masking algorithm\n",
    "\n",
    "In this first part, let's inspect how this pixel masking is done before training a N2V network!\n",
    "\n",
    "Before feeding patches to the network, a set of transformations, or augmentations, are \n",
    "applied to them. For instance in microscopy, we usually apply random 90 degrees rotations\n",
    "or flip the images. In Noise2Void, we apply one more transformation that replace random pixels\n",
    "by a value from their surrounding.\n",
    "\n",
    "In CAREamics, the transformation is called `N2VManipulate`. It has different \n",
    "parameters: `roi_size`, `masked_pixel_percentage` and `strategy`."
   ]
  },
  {
   "cell_type": "code",
   "execution_count": null,
   "metadata": {},
   "outputs": [],
   "source": [
    "# Define a patch size for this exercise\n",
    "dummy_patch_size = 64\n",
    "\n",
    "# Define masking parameters\n",
    "roi_size = 13\n",
    "masked_pixel_percentage = 5\n",
    "strategy = 'uniform'"
   ]
  },
  {
   "cell_type": "markdown",
   "metadata": {},
   "source": [
    "<div class=\"alert alert-block alert-info\"><h3><b>Task 1: Explore the N2VManipulate parameters</b></h3>\n",
    "\n",
    "Can you understand what `roi_size` and `masked_pixel_percentage` do? What can go wrong if they are too small or too high?\n",
    "\n",
    "\n",
    "Run the cell below to observe the effects!\n",
    "</div>"
   ]
  },
  {
   "cell_type": "code",
   "execution_count": null,
   "metadata": {},
   "outputs": [],
   "source": [
    "# Create a dummy patch\n",
    "patch = np.arange(dummy_patch_size**2).reshape(dummy_patch_size, dummy_patch_size)\n",
    "\n",
    "# The pixel manipulator expects a channel dimension, so we need to add it to the patch\n",
    "patch = patch[..., np.newaxis]\n",
    "\n",
    "# Instantiate the pixel manipulator\n",
    "manipulator = N2VManipulate(\n",
    "    roi_size=roi_size,\n",
    "    masked_pixel_percentage=masked_pixel_percentage,\n",
    "    strategy=strategy,\n",
    ")\n",
    "\n",
    "# And apply it\n",
    "masked_patch, original_patch, mask = manipulator.apply(patch)\n",
    "\n",
    "# Get the indices of the masked pixels\n",
    "i, j = np.where(mask.squeeze())\n",
    "masked_pixel_coords = np.concatenate([i[:, None], j[:, None]], axis=1)\n",
    "\n",
    "# Visualize the masked patch and the mask\n",
    "fig, ax = plt.subplots(1, 2, figsize=(10, 5))\n",
    "ax[0].imshow(masked_patch)\n",
    "ax[0].title.set_text(\"Manipulated patch\")\n",
    "ax[1].imshow(mask, cmap=\"gray\")\n",
    "ax[1].title.set_text(\"Mask\")\n"
   ]
  },
  {
   "cell_type": "markdown",
   "metadata": {},
   "source": [
    "<div class=\"alert alert-block alert-info\"><h3><b>Task 2: Uniform pixel sampling</b></h3>\n",
    "\n",
    "Remember the `strategy` parameter? It was set to `uniform` in the previous cell. Let's build \n",
    "a uniform selection of pixels in the patch in the next cell:\n",
    "\n",
    "1. Create an empty mask (zero values) of the same spatial dimension as the original patch\n",
    "2. Compute the total number of pixels in the patch\n",
    "3. Count the number of pixels in the previous mask (so that we sample the same number)\n",
    "4. Uniformly sample (using the number of pixels to mask) indices between 0 and the total number of pixels using `np.random.choice(N_max, N, replace=False)`\n",
    "5. We can access the array using linear (rather than 2D) indexing using `array.flat[...]`. Set all indices of the empty mask that were sampled to 1.\n",
    "\n",
    "</div>"
   ]
  },
  {
   "cell_type": "code",
   "execution_count": null,
   "metadata": {},
   "outputs": [],
   "source": [
    "# Create an empty mask of same XY dimensions as the patch\n",
    "uniform_mask = np.zeros_like(patch) # your code here\n",
    "\n",
    "# Compute the total number of pixels in the patch and the number of pixels to be masked\n",
    "tot_number_pixels = patch.shape[-2] * patch.shape[-3] # your code here\n",
    "n_masked_pixels = np.sum(mask) # your code here\n",
    "\n",
    "# Sample n_masked_pixels random indices from the total number of pixels\n",
    "indices = np.random.choice(tot_number_pixels, n_masked_pixels, replace=False) # your code here\n",
    "\n",
    "# Set the sampled indices to 1 in the mask using linear (flat) indexing\n",
    "uniform_mask.flat[indices] = 1 # your code here\n",
    "\n",
    "# Plot our uniform sampling with the sampling from N2V\n",
    "fig, ax = plt.subplots(1, 2, figsize=(10, 5))\n",
    "ax[0].imshow(uniform_mask, cmap=\"gray\")\n",
    "ax[0].title.set_text(\"Uniform mask\")\n",
    "ax[1].imshow(mask, cmap=\"gray\")\n",
    "ax[1].title.set_text(\"N2V mask\")"
   ]
  },
  {
   "cell_type": "markdown",
   "metadata": {},
   "source": [
    "<div class=\"alert alert-block alert-warning\"><h3>Question: Noise2Void uniform strategy</h3>\n",
    "\n",
    "What difference do you see between our uniform sampling and the one used in this implementation of Noise2Void? Do you see benefits?\n",
    "\n",
    "*hint: play around with the masked pixel percentage.*\n",
    "\n",
    "</div>\n",
    "\n",
    "<div class=\"alert alert-block alert-info\"><h3><b>Task 3: Is Noise2Void sampling uniform?</b></h3>\n",
    "\n",
    "Is the sampling in the Noise2Void manipulator really uniform? Let's check it out! \n",
    "\n",
    "1. Create a new mask called `cumulative_mask_sum` that has the same shape as the patch.\n",
    "2. Apply the `manipulator` a thousand times to the patch, only keep the returned mask.\n",
    "3. Sum all the masks together to get the cumulative sum of the masks.\n",
    "\n",
    "\n",
    "So, Is it uniform?\n",
    "</div>\n"
   ]
  },
  {
   "cell_type": "code",
   "execution_count": null,
   "metadata": {},
   "outputs": [],
   "source": [
    "# Create an empty mask with same size as the mask\n",
    "cumulative_mask_sum = np.zeros_like(mask) # your code here\n",
    "\n",
    "# Loop over 1000 times\n",
    "for _ in range(1_000):\n",
    "    # Apply N2V manipulation and only keep the mask\n",
    "    _, _, new_mask = manipulator.apply(patch) # your code here\n",
    "\n",
    "    # Add the mask to the cumulated mask\n",
    "    cumulative_mask_sum += new_mask # your code here\n",
    "\n",
    "# Plot accumulated mask\n",
    "plt.imshow(cumulative_mask_sum)\n",
    "plt.title(\"Cumulative mask\")"
   ]
  },
  {
   "cell_type": "markdown",
   "metadata": {},
   "source": [
    "So what's really happening? \n",
    "\n",
    "Noise2Void sampling is actually not uniform. You can see that by applying the transformation\n",
    "many times over (~1000) and adding all the resulting masks together as in Task 3. \n",
    "\n",
    "In our unifrom sampling (Task 2), you can see that there are all kind of distances between the pixels, while the Noise2Void\n",
    "sampling seems to be somewhat more regularly distributed. Indeed, `N2VManipulate` creates a grid of pixels based on the \n",
    "requested percentage and then select a single pixel away from the grid nodes. This leads on average to more equally distributed\n",
    "pixels, at the expense of true uniform sampling.\n",
    "\n",
    "The effect can be seen when sampling at low pixel percentages, where just by random chance the pixels can all be in the same corner\n",
    "if we were to sample uniformly. With `N2VManipulate`'s sampling, we ensure that the pixels are selected more evenly across the patch.\n",
    "Additionally, if you sample one pixel at a time, the neighboring pixels have as much chance to be selected as the pixels further away,\n",
    "which is not the case with Noise2Void.\n",
    "\n",
    "In turn, this allows better training by ensuring more diversity!\n",
    "\n",
    "Interesting, but why was the `strategy` set to `uniform` if it is pseudo-uniform at best? The answer is that the `uniform` refers\n",
    "here to the choice of replacement pixel, not the choice of the pixels to be masked. The replacement pixel is chosen `uniformly` in the\n",
    "roi surrounding the masked pixel (remember the `roi_size`?). At the end of the exercise, we will look into `N2V2`, which uses the `median` replacement strategy.\n",
    "\n",
    "One final point, you might wonder what is a good roi size or masked pixel percentage? If the range is too large, \n",
    "then the replacement pixels have nothing to do with the masked pixel, and if it is too small (but not one...) you \n",
    "might be even more sensitive to small correlations between pixels. For the masked pixel percentage, then too many masked pixels\n",
    "and you will disturb the training as the pixels will be too close together, to few masked pixels and your training will be slow!\n",
    "\n",
    "<div class=\"alert alert-block alert-success\"><h1><b>Checkpoint 1: What is N2V really doing?</b></h1>\n",
    "</div>"
   ]
  },
  {
   "cell_type": "markdown",
   "metadata": {},
   "source": [
    "<hr style=\"height:2px;\">\n",
    "\n",
    "## Part 2: Prepare the data\n",
    "\n",
    "Now that we understand how the masking works, let's train a Noise2Void network! We will\n",
    "use a scanning electron microscopy image (SEM)."
   ]
  },
  {
   "attachments": {},
   "cell_type": "markdown",
   "metadata": {},
   "source": [
    "For this we first download the relevant dataset from the CAREamics portfolio library"
   ]
  },
  {
   "cell_type": "code",
   "execution_count": null,
   "metadata": {},
   "outputs": [],
   "source": [
    "# Explore portfolio\n",
    "portfolio = PortfolioManager()\n",
    "print(portfolio.denoising)"
   ]
  },
  {
   "cell_type": "code",
   "execution_count": null,
   "metadata": {},
   "outputs": [],
   "source": [
    "# Download files # TODO File should be reused from previous exercise\n",
    "root_path = Path(\"./data\")\n",
    "files = portfolio.denoising.N2V_SEM.download(root_path)\n",
    "print(f\"List of downloaded files: {files}\")"
   ]
  },
  {
   "attachments": {},
   "cell_type": "markdown",
   "metadata": {},
   "source": [
    "#### Visualize training data"
   ]
  },
  {
   "cell_type": "code",
   "execution_count": null,
   "metadata": {},
   "outputs": [],
   "source": [
    "# Load images\n",
    "train_image = tifffile.imread(files[0])\n",
    "print(f\"Train image shape: {train_image.shape}\")\n",
    "plt.imshow(train_image, cmap=\"gray\")"
   ]
  },
  {
   "attachments": {},
   "cell_type": "markdown",
   "metadata": {},
   "source": [
    "#### Visualize validation data"
   ]
  },
  {
   "cell_type": "code",
   "execution_count": null,
   "metadata": {},
   "outputs": [],
   "source": [
    "val_image = tifffile.imread(files[1])\n",
    "print(f\"Validation image shape: {val_image.shape}\")\n",
    "plt.imshow(val_image, cmap=\"gray\")"
   ]
  },
  {
   "cell_type": "code",
   "execution_count": null,
   "metadata": {},
   "outputs": [],
   "source": [
    "# Set paths\n",
    "\n",
    "data_path = Path(root_path / \"n2v_sem\")\n",
    "train_path = data_path / \"train\"\n",
    "val_path = data_path / \"val\"\n",
    "\n",
    "train_path.mkdir(parents=True, exist_ok=True)\n",
    "val_path.mkdir(parents=True, exist_ok=True)\n",
    "\n",
    "shutil.copy(root_path / files[0], train_path / \"train_image.tif\")\n",
    "shutil.copy(root_path / files[1], val_path / \"val_image.tif\")"
   ]
  },
  {
   "attachments": {},
   "cell_type": "markdown",
   "metadata": {},
   "source": [
    "## Part 3: Create a configuration\n",
    "\n",
    "CAREamics can be configured either from a yaml file, or with an explicitly created config object.\n",
    "In this note book we will create the config object using helper functions. CAREamics will \n",
    "validate all the parameters and will output explicit error if some parameters or a combination of parameters isn't allowed. It will also provide default values for missing parameters.\n",
    "\n",
    "The helper function limits the parameters to what is relevant for N2V, here is a break down of these parameters:\n",
    "\n",
    "- `experiment_name`: name used to identify the experiment\n",
    "- `data_type`: data type, in CAREamics it can only be `tiff` or `array` \n",
    "- `axes`: axes of the data, here it would be `YX`\n",
    "- `patch_size`: size of the patches used for training\n",
    "- `batch_size`: size of each batch\n",
    "- `num_epochs`: number of epochs\n",
    "\n",
    "\n",
    "There are also optional parameters, for more fine grained details:\n",
    "\n",
    "- `use_augmentations`: whether to use augmentations (flip and rotation)\n",
    "- `use_n2v2`: whether to use N2V2, a N2V variant (see optional exercise)\n",
    "- `n_channels`: the number of channels \n",
    "- `roi_size`: size of the N2V manipulation region (remember that parameter?)\n",
    "- `masked_pixel_percentage`: percentage of pixels to mask\n",
    "- `logger`: which logger to use\n",
    "\n",
    "\n",
    "Have a look at the [documentation](https://careamics.github.io) to see the full list of parameters and \n",
    "their use!\n",
    "\n"
   ]
  },
  {
   "cell_type": "code",
   "execution_count": null,
   "metadata": {},
   "outputs": [],
   "source": [
    "# Create a configuration using the helper function\n",
    "training_config = create_n2v_configuration(\n",
    "    experiment_name=\"dl4mia_n2v_sem\",\n",
    "    data_type=\"tiff\",\n",
    "    axes=\"YX\",\n",
    "    patch_size=[64, 64],\n",
    "    batch_size=128,\n",
    "    num_epochs=10,\n",
    "    roi_size=3,\n",
    "    masked_pixel_percentage=0.05,\n",
    "    logger=\"tensorboard\"\n",
    ")"
   ]
  },
  {
   "attachments": {},
   "cell_type": "markdown",
   "metadata": {},
   "source": [
    "#### Initialize the Model\n",
    "\n",
    "Let's instantiate the model with the configuration we just created. CAREamist is the main class of the library, it will handle creation of the data pipeline, the model, training and inference methods."
   ]
  },
  {
   "cell_type": "code",
   "execution_count": null,
   "metadata": {},
   "outputs": [],
   "source": [
    "careamist = CAREamist(source=training_config)"
   ]
  },
  {
   "attachments": {},
   "cell_type": "markdown",
   "metadata": {},
   "source": [
    "## Part 4: Train\n",
    "\n",
    "Here, we need to specify the paths to training and validation data. We can point to a folder containing \n",
    "the data or to a single file. If it fits in memory, then CAREamics will load everything and train on it. If it doesn't, then CAREamics will load the data file by file."
   ]
  },
  {
   "cell_type": "code",
   "execution_count": null,
   "metadata": {},
   "outputs": [],
   "source": [
    "careamist.train(train_source=train_path, val_source=val_path)"
   ]
  },
  {
   "cell_type": "markdown",
   "metadata": {},
   "source": [
    "<div class=\"alert alert-block alert-info\"><h3><b>Task 4: Tensorboard</b></h3>\n",
    "\n",
    "Remember the configuration? Didn't we set `logger` to `tensorboard`? Then we can visualize the loss curve!\n",
    "\n",
    "Explore the local folder next to this notebook and find where the logs are stored. Then, \n",
    "start a tensorboard server and visualize the loss curve.\n",
    "</div>\n",
    "\n",
    "<div class=\"alert alert-block alert-warning\"><h3>Question: N2V loss curve</h3>\n",
    "\n",
    "Do you remember what the loss is in Noise2Void? What is the meaning of the loss curve in that case? Can\n",
    "it be easily interpreted?\n",
    "</div>\n",
    "\n",
    "<div class=\"alert alert-block alert-success\"><h1>Checkpoint 2: Training Noise2Void</h1>\n",
    "</div>"
   ]
  },
  {
   "cell_type": "markdown",
   "metadata": {},
   "source": [
    "<hr style=\"height:2px;\">\n",
    "\n",
    "We trained, but how well did it do?"
   ]
  },
  {
   "attachments": {},
   "cell_type": "markdown",
   "metadata": {},
   "source": [
    "## Part 5. Prediction\n",
    "\n",
    "In order to predict on an image, we also need to specify the path. We also typically need\n",
    "to cut the image into patches, predict on each patch and then stitch the patches back together.\n",
    "\n",
    "To make the process faster, we can choose bigger tiles than the patches used during training. By default CAREamics uses tiled prediction to handle large images. The tile size can be set via the `tile_size` parameter. Tile overlap is computed automatically based on the network architecture."
   ]
  },
  {
   "cell_type": "code",
   "execution_count": null,
   "metadata": {},
   "outputs": [],
   "source": [
    "preds = careamist.predict(source=train_path, tile_size=(256, 256))"
   ]
  },
  {
   "attachments": {},
   "cell_type": "markdown",
   "metadata": {},
   "source": [
    "### Visualize predictions"
   ]
  },
  {
   "cell_type": "code",
   "execution_count": null,
   "metadata": {},
   "outputs": [],
   "source": [
    "# Show the full image\n",
    "fig, ax = plt.subplots(1, 2, figsize=(10, 5))\n",
    "ax[0].imshow(train_image, cmap=\"gray\")\n",
    "ax[1].imshow(preds.squeeze(), cmap=\"gray\")"
   ]
  },
  {
   "cell_type": "code",
   "execution_count": null,
   "metadata": {},
   "outputs": [],
   "source": [
    "# Show a close up image\n",
    "y_start = 200\n",
    "y_end = 450\n",
    "x_start = 600\n",
    "x_end = 850\n",
    "\n",
    "fig, ax = plt.subplots(1, 2, figsize=(10, 5))\n",
    "ax[0].imshow(train_image[y_start:y_end, x_start:x_end], cmap=\"gray\")\n",
    "ax[1].imshow(preds.squeeze()[y_start:y_end, x_start:x_end], cmap=\"gray\")"
   ]
  },
  {
   "attachments": {},
   "cell_type": "markdown",
   "metadata": {},
   "source": [
    "\n",
    "<div class=\"alert alert-block alert-info\"><h3><b>Task 5: Inspect the image closely</b></h3>\n",
    "\n",
    "If you got a good result, try to inspect the image closely. For instance, the default\n",
    "window we used for the close-up image:\n",
    "\n",
    "`y_start` = 200\n",
    "\n",
    "`y_end` = 450\n",
    "\n",
    "`x_start` = 600\n",
    "\n",
    "`x_end` = 850\n",
    "\n",
    "\n",
    "Do you see anything peculiar in the fine grained details? What could be the reason for that?\n",
    "</div>\n",
    "\n",
    "<div class=\"alert alert-block alert-info\"><h3><b>Task 6: Saving the prediction</b></h3>\n",
    "\n",
    "Save the prediction result and the configuration to the disk.\n",
    "\n",
    "<i>hint: You can use `tifffile` to save images, and `save_configuration` method from\n",
    "CAREamics.</i>\n",
    "</div>\n",
    "\n",
    "<div class=\"alert alert-block alert-info\"><h3><b>Task 7: Check the residuals</b></h3>\n",
    "\n",
    "Compute the absolute difference between original and denoised image. What do you see? \n",
    "\n",
    "</div>\n",
    "\n",
    "<div class=\"alert alert-block alert-info\"><h3><b>Task 8: Improving the results</b></h3>\n",
    "\n",
    "CAREamics configuration won't allow you to use parameters which are clearly wrong. However, there are many parameters that can be tuned to improve the results. Try to play around with the `roi_size` and `masked_pixel_percentage` and see if you can improve the results.\n",
    "\n",
    "Do the fine-grained structures observed in task 5 disappear?\n",
    "\n",
    "</div>"
   ]
  },
  {
   "cell_type": "markdown",
   "metadata": {},
   "source": [
    "### How to predict without training?\n",
    "\n",
    "Here again, CAREamics provides a way to create a CAREamist from a checkpoint only,\n",
    "allowing predicting without having to retrain."
   ]
  },
  {
   "cell_type": "code",
   "execution_count": null,
   "metadata": {},
   "outputs": [],
   "source": [
    "# Instantiate a CAREamist from a checkpoint\n",
    "other_careamist = CAREamist(source=\"checkpoints/last.ckpt\")\n",
    "\n",
    "# And predict\n",
    "new_preds = other_careamist.predict(source=train_path, tile_size=(256, 256))\n",
    "\n",
    "# Show the full image\n",
    "fig, ax = plt.subplots(1, 2, figsize=(10, 5))\n",
    "ax[0].imshow(train_image, cmap=\"gray\")\n",
    "ax[1].imshow(new_preds.squeeze(), cmap=\"gray\")"
   ]
  },
  {
   "cell_type": "markdown",
   "metadata": {},
   "source": [
    "<div class=\"alert alert-block alert-success\"><h1>Checkpoint 3: Prediction</h1>\n",
    "</div>\n",
    "\n",
    "<hr style=\"height:2px;\">\n",
    "\n",
    "## Part 6: Exporting the model\n",
    "\n",
    "Have you heard of the [BioImage Model Zoo](https://bioimage.io/#/)? It provides a format for FAIR AI models and allows\n",
    "researchers to exchange and reproduce models. "
   ]
  },
  {
   "cell_type": "code",
   "execution_count": null,
   "metadata": {},
   "outputs": [],
   "source": [
    "# Export model as BMZ\n",
    "careamist.export_to_bmz(\n",
    "    path=\"n2v_model.zip\",\n",
    "    name=\"SEM_N2V\",\n",
    "    authors= [{\"name\": \"Jane\", \"affiliation\": \"Doe University\"}]\n",
    ")"
   ]
  },
  {
   "cell_type": "markdown",
   "metadata": {},
   "source": [
    "<hr style=\"height:2px;\">\n",
    "\n",
    "## Part 7: Dealing with artefacts\n",
    "\n",
    "<div class=\"alert alert-block alert-info\"><h4><b>Task 9: Train N2V2</b></h4>\n",
    "\n",
    "There are multiple ways of dealing with the artefacts observed in Task 4 (called \"checkboard artefacts\"). One is to use a different algorithm, which is exactly what we are going to do in the next exercise.\n",
    "\n",
    "Another one is to use `N2V2`! While this new iteration of Noise2Void is not impervious to strong correlation in the noise,\n",
    "it deals really well with the checkboard artefacts.\n",
    "\n",
    "How to use N2V2? It is as simple as setting `use_n2v2` to `True` in the configuration. Try it out and see if it improves the results!\n",
    "</div>\n",
    "\n",
    "<div class=\"alert alert-block alert-info\"><h4><b>Task 10: Train N2V(2) on a different dataset</b></h4>\n",
    "\n",
    "Use this notebook to train on a different dataset: the one stored in `/group/dl4miacourse/image_regression/penicillium/penicillium_low_snr.tif`. Do you see artefacts? How do they compare with those observed with the SEM data?\n",
    "\n",
    "You will need to adapt the configuration as this new dataset is 3D. Using 3D means that the memory footprint of the network and data will increase. \n",
    "\n",
    "**Below are some snippets to guide you.**\n",
    "</div>\n",
    "\n",
    "\n",
    "Some help to use the penicillium dataset:\n",
    "\n",
    "```python\n",
    "training_config = create_n2v_configuration(\n",
    "    experiment_name=\"dl4mia_n2v2_penicillium\",\n",
    "    data_type=\"tiff\",\n",
    "    axes=\"YX\", # <-- we are missing Z\n",
    "    patch_size=[64, 64], # <-- this needs to be 3D, choose the Z size carefully!\n",
    "    batch_size=128, # <-- if the network and the images are bigger, this needs to decrease to fit in memory!\n",
    "    num_epochs=10, # <-- start by training on a very small number of epochs to make sure it runs smoothly first\n",
    "    logger=\"tensorboard\",\n",
    "    use_n2v2=True, \n",
    ")\n",
    "```\n",
    "\n",
    "That's for the configuration, but there is another issue. First, we have only a single image. \n",
    "Where do we get validation from? We can simply let CAREamics extract some patches from the\n",
    "training set and keep them for validation only. If you have tons of patches, then your validation set\n",
    "might also become too big and then every epochs takes longer. You can set the validation percentage\n",
    "during training:\n",
    "\n",
    "```python\n",
    "careamist.train(\n",
    "    train_source=train_path, \n",
    "    val_percentage=... # <-- set a small value, like 0.1\n",
    ")\n",
    "```\n",
    "\n",
    "\n",
    "Finally, the prediction needs to have 3D tiles and overlaps (the overlaps have a 2D default\n",
    "value):\n",
    "```python\n",
    "preds = careamist.predict(\n",
    "    source=train_path, \n",
    "    tile_size=(64, 256, 256),\n",
    "    tile_overlap=(16, 48, 48)\n",
    ")\n",
    "```\n"
   ]
  },
  {
   "cell_type": "markdown",
   "metadata": {},
   "source": [
    "\n",
    "<div class=\"alert alert-block alert-success\"><h1>Checkpoint 4: Dealing with artefacts</h1>\n",
    "</div>"
   ]
  },
  {
   "cell_type": "markdown",
   "metadata": {},
   "source": [
    "<hr style=\"height:2px;\"><div class=\"alert alert-block alert-warning\"><h3>Take away questions</h3>\n",
    "\n",
    "- Which is the best network for Noise2Void, the one at the end of the training or the one with lowest validation loss?\n",
    "\n",
    "- Is validation useful in Noise2Void?\n",
    "\n",
    "- We predicted on the same image we trained on, is that a good idea?\n",
    "\n",
    "- Can you reuse the model on another image?\n",
    "\n",
    "- Can you train on images with multiple channels? RGB images? Biological channels (GFP, RFP, DAPI)?\n",
    "\n",
    "- N2V training is unsupervised, how can you be sure that the training worked and is not hallucinating?\n",
    "</div>\n",
    "\n"
   ]
  },
  {
   "cell_type": "markdown",
   "metadata": {},
   "source": [
    "<hr style=\"height:2px;\"><div class=\"alert alert-block alert-success\"><h1>End of the exercise</h1>\n",
    "</div>"
   ]
  }
 ],
 "metadata": {
  "kernelspec": {
   "display_name": "Python 3 (ipykernel)",
   "language": "python",
   "name": "python3"
  },
  "language_info": {
   "codemirror_mode": {
    "name": "ipython",
    "version": 3
   },
   "file_extension": ".py",
   "mimetype": "text/x-python",
   "name": "python",
   "nbconvert_exporter": "python",
   "pygments_lexer": "ipython3",
   "version": "3.8.19"
  }
 },
 "nbformat": 4,
 "nbformat_minor": 4
}
