{
 "cells": [
  {
   "attachments": {},
   "cell_type": "markdown",
   "metadata": {},
   "source": [
    "# Noise2Void\n",
    "\n",
    "In the first exercise, we denoised images with CARE using supervised training. As \n",
    "discussed during the lecture, ground-truth data is not always available in life \n",
    "sciences. But no panic, Noise2Void is here to help!\n",
    "\n",
    "Indeed Noise2Void is a self-supervised algorithm, meaning that it trains on the data\n",
    "itself and does not require clean images. The idea is to predict the value of a masked\n",
    "pixels based on the information from the surrounding pixels. Two underlying hypothesis\n",
    "allow N2V to work: the structures are continuous and the noise is pixel-independent, \n",
    "that is to say the amount of noise in one pixel is independent from the amount of noise\n",
    "in the surrounding pixels. Fortunately for us, it is very often the case in microscopy images!\n",
    "\n",
    "In this notebook, we will an existing library called [Careamics](https://careamics.github.io)\n",
    "that includes N2V and other algorithms:\n",
    "\n",
    "<p align=\"center\">\n",
    "    <img src=\"https://raw.githubusercontent.com/CAREamics/.github/main/profile/images/banner_careamics.png\" width=400>\n",
    "</p>\n",
    "\n",
    "\n",
    "## Reference\n",
    "\n",
    "Alexander Krull, Tim-Oliver Buchholz, and Florian Jug. \"[Noise2Void - learning denoising from single noisy images.](https://openaccess.thecvf.com/content_CVPR_2019/html/Krull_Noise2Void_-_Learning_Denoising_From_Single_Noisy_Images_CVPR_2019_paper.html)\" Proceedings of the IEEE/CVF conference on Computer Vision and Pattern Recognition, 2019."
   ]
  },
  {
   "cell_type": "code",
   "execution_count": null,
   "metadata": {},
   "outputs": [],
   "source": [
    "import shutil\n",
    "from pathlib import Path\n",
    "\n",
    "import numpy as np\n",
    "import matplotlib.pyplot as plt\n",
    "import tifffile\n",
    "from careamics_portfolio import PortfolioManager\n",
    "\n",
    "from careamics import CAREamist\n",
    "from careamics.config import (\n",
    "    create_n2v_configuration,\n",
    ")\n",
    "from careamics.transforms import N2VManipulate"
   ]
  },
  {
   "attachments": {},
   "cell_type": "markdown",
   "metadata": {},
   "source": [
    "If N2V does not require pairs of noisy and clean images, then how does it train?\n",
    "\n",
    "First it selects random pixels in each patch, then it masks them. The masking is \n",
    "not done by setting their value to 0 (which could disturb the network since it is an\n",
    "unexpected value) but by replacing the value with that of one of the neighboring pixels.\n",
    "\n",
    "Then, the network is trained to predict the value of the masked pixels. Since the masked\n",
    "value is different from the original value, the network needs to use the information\n",
    "contained in all the pixels surrounding the masked pixel. If the noise is pixel-independent,\n",
    "then the network cannot predict the amount of noise in the original pixel and it ends\n",
    "up predicting a value close to the \"clean\", or denoised, value.\n",
    "\n",
    "Let's inspect how this pixel masking is done! "
   ]
  },
  {
   "attachments": {},
   "cell_type": "markdown",
   "metadata": {},
   "source": [
    "<hr style=\"height:2px;\">\n",
    "\n",
    "## Part 1 Visualize masking algorithm\n",
    "\n",
    "Before feeding patches to the network,\n",
    "a set of transformations, or augmentations, are applied to them. Here, the masking is\n",
    "simply a transformation. In CAREamics, the transformation is called N2VManipulate. It \n",
    "has different parameters: `roi_size`, `masked_pixel_percentage` and `strategy`."
   ]
  },
  {
   "cell_type": "code",
   "execution_count": null,
   "metadata": {},
   "outputs": [],
   "source": [
    "# Define a patch size for this exercise\n",
    "dummy_patch_size = 10\n",
    "\n",
    "# Define masking parameters\n",
    "roi_size = 11\n",
    "masked_pixel_percentage = 5\n",
    "strategy = 'uniform'\n",
    "\n",
    "# This is simply the index of a pixel to draw a rectangle around\n",
    "#highlighted_pixel_idx = 0"
   ]
  },
  {
   "cell_type": "code",
   "execution_count": null,
   "metadata": {},
   "outputs": [],
   "source": [
    "# Create a dummy patch\n",
    "patch = np.arange(dummy_patch_size**2).reshape(dummy_patch_size, dummy_patch_size)\n",
    "\n",
    "# The pixel manipulator expects a channel dimension, so we need to add it to the patch\n",
    "patch = patch[..., np.newaxis]"
   ]
  },
  {
   "cell_type": "code",
   "execution_count": null,
   "metadata": {},
   "outputs": [],
   "source": [
    "# Instantiate the pixel manipulator\n",
    "manipulator = N2VManipulate(\n",
    "    roi_size=roi_size,\n",
    "    masked_pixel_percentage=masked_pixel_percentage,\n",
    "    strategy=strategy,\n",
    ")\n",
    "\n",
    "# And apply it\n",
    "masked_patch, original_patch, mask = manipulator.apply(patch)\n"
   ]
  },
  {
   "attachments": {},
   "cell_type": "markdown",
   "metadata": {},
   "source": [
    "#### Define helper variables for visualization purposes"
   ]
  },
  {
   "cell_type": "code",
   "execution_count": null,
   "metadata": {},
   "outputs": [],
   "source": [
    "# Get the indices of the masked pixels\n",
    "i, j = np.where(mask.squeeze())\n",
    "masked_pixel_coords = np.concatenate([i[:, None], j[:, None]], axis=1)\n",
    "\n",
    "# Get the coordinates of the one of the border pixels\n",
    "center_coords = np.flip(masked_pixel_coords[highlighted_pixel_idx]) - roi_size // 2"
   ]
  },
  {
   "attachments": {},
   "cell_type": "markdown",
   "metadata": {},
   "source": [
    "#### Visualize the pixel with replaced values and the mask\n",
    "\n",
    "The cell below will visualize the patch with replaced values and the corresponding mask."
   ]
  },
  {
   "cell_type": "code",
   "execution_count": null,
   "metadata": {},
   "outputs": [],
   "source": [
    "# Define a roi mask to visualize the masked region\n",
    "#roi = plt.Rectangle(center_coords, roi_size - 1, roi_size - 1, edgecolor='r', fill=False)\n",
    "\n",
    "# Visualize the masked patch and the mask\n",
    "fig, ax = plt.subplots(1, 2, figsize=(10, 5))\n",
    "ax[0].imshow(masked_patch)\n",
    "#ax[0].add_patch(roi)\n",
    "ax[1].imshow(mask, cmap=\"gray\")"
   ]
  },
  {
   "cell_type": "markdown",
   "metadata": {},
   "source": [
    "<div class=\"alert alert-block alert-info\"><h3>Task 1: Explore the N2VManipulate parameters</h3>\n",
    "\n",
    "Can you understand what `roi_size` does?\n",
    "\n",
    "</div>\n",
    "\n",
    "\n",
    "<div class=\"alert alert-block alert-info\"><h3>Task 2: Random selections</h3>\n",
    "\n",
    "There are two types of \"random selection\" happening in the transform. Can you identify them?\n",
    "\n",
    "</div>\n",
    "\n",
    "<div class=\"alert alert-block alert-info\"><h3>Task 3: Uniform masking?</h3>\n",
    "Visualize how often each pixel in the patch is masked when applying the transform. Which\n",
    "of the \"random selections\" of Task 2 is \"uniform\"?\n",
    "\n",
    "<i>hint</i>: You need to apply the N2VManipulate transform many times and add\n",
    "the masks.\n",
    "\n",
    "</div>\n",
    "\n",
    "<div class=\"alert alert-block alert-success\"><h1>Checkpoint 1: What is N2V really doing?</h1>\n",
    "</div>"
   ]
  },
  {
   "cell_type": "markdown",
   "metadata": {},
   "source": [
    "<hr style=\"height:2px;\">\n",
    "\n",
    "## Part 2: Prepare the data\n",
    "\n",
    "Now that we understand how the masking works, let's train a Noise2Void network! We will\n",
    "use a scanning electron microscopy image (SEM)."
   ]
  },
  {
   "attachments": {},
   "cell_type": "markdown",
   "metadata": {},
   "source": [
    "For this we first download the relevant dataset from the CAREamics portfolio library"
   ]
  },
  {
   "cell_type": "code",
   "execution_count": null,
   "metadata": {},
   "outputs": [],
   "source": [
    "# Explore portfolio\n",
    "portfolio = PortfolioManager()\n",
    "print(portfolio.denoising)"
   ]
  },
  {
   "cell_type": "code",
   "execution_count": null,
   "metadata": {},
   "outputs": [],
   "source": [
    "# Download files # TODO File should be reused from previous exercise\n",
    "root_path = Path(\"./data\")\n",
    "files = portfolio.denoising.N2V_SEM.download(root_path)\n",
    "print(f\"List of downloaded files: {files}\")"
   ]
  },
  {
   "attachments": {},
   "cell_type": "markdown",
   "metadata": {},
   "source": [
    "#### Visualize training data"
   ]
  },
  {
   "cell_type": "code",
   "execution_count": null,
   "metadata": {},
   "outputs": [],
   "source": [
    "# Load images\n",
    "train_image = tifffile.imread(files[0])\n",
    "print(f\"Train image shape: {train_image.shape}\")\n",
    "plt.imshow(train_image, cmap=\"gray\")"
   ]
  },
  {
   "attachments": {},
   "cell_type": "markdown",
   "metadata": {},
   "source": [
    "#### Visualize validation data"
   ]
  },
  {
   "cell_type": "code",
   "execution_count": null,
   "metadata": {},
   "outputs": [],
   "source": [
    "val_image = tifffile.imread(files[1])\n",
    "print(f\"Validation image shape: {val_image.shape}\")\n",
    "plt.imshow(val_image, cmap=\"gray\")"
   ]
  },
  {
   "cell_type": "code",
   "execution_count": null,
   "metadata": {},
   "outputs": [],
   "source": [
    "# Set paths\n",
    "\n",
    "data_path = Path(root_path / \"n2v_sem\")\n",
    "train_path = data_path / \"train\"\n",
    "val_path = data_path / \"val\"\n",
    "\n",
    "train_path.mkdir(parents=True, exist_ok=True)\n",
    "val_path.mkdir(parents=True, exist_ok=True)\n",
    "\n",
    "shutil.copy(root_path / files[0], train_path / \"train_image.tif\")\n",
    "shutil.copy(root_path / files[1], val_path / \"val_image.tif\")"
   ]
  },
  {
   "attachments": {},
   "cell_type": "markdown",
   "metadata": {},
   "source": [
    "## Part 2: Create a configuration\n",
    "\n",
    "CAREamics can be configured either from a yaml file, or with an explicitly created config object.\n",
    "In this note book we will create the config object using helper functions. CAREamics will \n",
    "validate all the parameters and will output explicit error if some parameters or a combination of parameters isn't allowed. It will also provide default values for missing parameters.\n",
    "\n",
    "The helper function limits the parameters to what is relevant for N2V, here is a break down of these parameters:\n",
    "\n",
    "- `experiment_name`: name used to identify the experiment\n",
    "- `data_type`: data type, in CAREamics it can only be `tiff` or `array` \n",
    "- `axes`: axes of the data, here it would be `YX`\n",
    "- `patch_size`: size of the patches used for training\n",
    "- `batch_size`: size of each batch\n",
    "- `num_epochs`: number of epochs\n",
    "\n",
    "\n",
    "There are also optional parameters, for more fine grained details:\n",
    "\n",
    "- `use_augmentations`: whether to use augmentations (flip and rotation)\n",
    "- `use_n2v2`: whether to use N2V2, a N2V variant (see optional exercise)\n",
    "- `n_channels`: the number of channels \n",
    "- `roi_size`: size of the N2V manipulation region (remember that parameter?)\n",
    "- `masked_pixel_percentage`: percentage of pixels to mask\n",
    "- `logger`: which logger to use\n",
    "\n",
    "\n",
    "Have a look at the [documentation](https://careamics.github.io) to see the full list of parameters and \n",
    "their use!\n",
    "\n"
   ]
  },
  {
   "cell_type": "code",
   "execution_count": null,
   "metadata": {},
   "outputs": [],
   "source": [
    "# Create a configuration using the helper function\n",
    "training_config = create_n2v_configuration(\n",
    "    experiment_name=\"dl4mia_n2v_load_ckpt_test\",\n",
    "    data_type=\"tiff\",\n",
    "    axes=\"YX\",\n",
    "    patch_size=[64, 64],\n",
    "    batch_size=128,\n",
    "    num_epochs=10,\n",
    "    roi_size=3,\n",
    "    masked_pixel_percentage=0.05,\n",
    "    logger=\"tensorboard\"\n",
    ")"
   ]
  },
  {
   "attachments": {},
   "cell_type": "markdown",
   "metadata": {},
   "source": [
    "#### Initialize the Model\n",
    "\n",
    "Let's instantiate the model with the configuration we just created. CAREamist is the main class of the library, it will handle creation of the data pipeline, the model, training and inference methods."
   ]
  },
  {
   "cell_type": "code",
   "execution_count": null,
   "metadata": {},
   "outputs": [],
   "source": [
    "careamist = CAREamist(source=training_config)"
   ]
  },
  {
   "attachments": {},
   "cell_type": "markdown",
   "metadata": {},
   "source": [
    "## Part 3: Train\n",
    "\n",
    "Here, we need to specify the paths to training and validation data. We can point to a folder containing \n",
    "the data or to a single file. If it fits in memory, then CAREamics will load everything and train on it. If it doesn't, then CAREamics will load the data file by file."
   ]
  },
  {
   "cell_type": "code",
   "execution_count": null,
   "metadata": {},
   "outputs": [],
   "source": [
    "careamist.train(train_source=train_path, val_source=val_path)"
   ]
  },
  {
   "cell_type": "markdown",
   "metadata": {},
   "source": [
    "<div class=\"alert alert-block alert-info\"><h3>Task 4: Tensorboard</h3>\n",
    "\n",
    "Remember the configuration? Didn't we set `logger` to `tensorboard`? Then we can visualize the loss curve!\n",
    "\n",
    "Explore the local folder next to this notebook and find where the logs are stored. Then, \n",
    "start a tensorboard server and visualize the loss curve.\n",
    "</div>\n",
    "\n",
    "<div class=\"alert alert-block alert-warning\"><h3>Question: N2V loss curve</h3>\n",
    "\n",
    "Do you remember what the loss is in Noise2Void? What is the meaning of the loss curve in that case? Can\n",
    "it be easily interpreted?\n",
    "</div>\n",
    "\n",
    "<div class=\"alert alert-block alert-success\"><h1>Checkpoint 2: Training Noise2Void</h1>\n",
    "</div>"
   ]
  },
  {
   "cell_type": "markdown",
   "metadata": {},
   "source": [
    "<hr style=\"height:2px;\">\n",
    "\n",
    "We trained, but how well did it do?"
   ]
  },
  {
   "attachments": {},
   "cell_type": "markdown",
   "metadata": {},
   "source": [
    "## Part 4. Prediction\n",
    "\n",
    "In order to predict on an image, we also need to specify the path. We also typically need\n",
    "to cut the image into patches, predict on each patch and then stitch the patches back together.\n",
    "\n",
    "To make the process faster, we can choose bigger tiles than the patches used during training. By default CAREamics uses tiled prediction to handle large images. The tile size can be set via the `tile_size` parameter. Tile overlap is computed automatically based on the network architecture."
   ]
  },
  {
   "cell_type": "code",
   "execution_count": null,
   "metadata": {},
   "outputs": [],
   "source": [
    "preds = careamist.predict(source=train_path, tile_size=(256, 256))"
   ]
  },
  {
   "attachments": {},
   "cell_type": "markdown",
   "metadata": {},
   "source": [
    "### Visualize predictions"
   ]
  },
  {
   "cell_type": "code",
   "execution_count": null,
   "metadata": {},
   "outputs": [],
   "source": [
    "# Show the full image\n",
    "fig, ax = plt.subplots(1, 2, figsize=(10, 5))\n",
    "ax[0].imshow(train_image, cmap=\"gray\")\n",
    "ax[1].imshow(preds.squeeze(), cmap=\"gray\")"
   ]
  },
  {
   "cell_type": "code",
   "execution_count": null,
   "metadata": {},
   "outputs": [],
   "source": [
    "# Show a close up image\n",
    "y_start = 200\n",
    "y_end = 450\n",
    "x_start = 600\n",
    "x_end = 850\n",
    "\n",
    "fig, ax = plt.subplots(1, 2, figsize=(10, 5))\n",
    "ax[0].imshow(train_image[y_start:y_end, x_start:x_end], cmap=\"gray\")\n",
    "ax[1].imshow(preds.squeeze()[y_start:y_end, x_start:x_end], cmap=\"gray\")"
   ]
  },
  {
   "attachments": {},
   "cell_type": "markdown",
   "metadata": {},
   "source": [
    "\n",
    "<div class=\"alert alert-block alert-info\"><h3>Task 5: Inspect the image closely</h3>\n",
    "\n",
    "If you got a good result, try to inspect the image closely. For instance, the default\n",
    "window we used for the close-up image:\n",
    "\n",
    "`y_start` = 200\n",
    "\n",
    "`y_end` = 450\n",
    "\n",
    "`x_start` = 600\n",
    "\n",
    "`x_end` = 850\n",
    "\n",
    "\n",
    "Do you see anything peculiar in the fine grained details? What could be the reason for that?\n",
    "</div>\n",
    "\n",
    "<div class=\"alert alert-block alert-info\"><h3>Task 6: Saving the prediction</h3>\n",
    "\n",
    "Save the prediction result and the configuration to the disk.\n",
    "\n",
    "<i>hint:</i> You can use `tifffile` to save images, and `save_configuration` method from\n",
    "CAREamics.\n",
    "</div>\n",
    "\n",
    "<div class=\"alert alert-block alert-info\"><h3>Task 7: Check the residuals</h3>\n",
    "\n",
    "Compute the absolute difference between original and denoised image. What do you see? \n",
    "\n",
    "</div>\n",
    "\n",
    "<div class=\"alert alert-block alert-info\"><h3>Task 8: Improving the results</h3>\n",
    "\n",
    "CAREamics configuration won't allow you to use parameters which are clearly wrong. However, there are many parameters that can be tuned to improve the results. Try to play around with the `roi_size` and `masked_pixel_percentage` and see if you can improve the results.\n",
    "\n",
    "Do the fine-grained structures observed in task 5 disappear?\n",
    "\n",
    "</div>"
   ]
  },
  {
   "cell_type": "markdown",
   "metadata": {},
   "source": [
    "### How to predict without training?\n",
    "\n",
    "Here again, CAREamics provides a way to create a CAREamist from a checkpoint only,\n",
    "allowing predicting without having to retrain."
   ]
  },
  {
   "cell_type": "code",
   "execution_count": null,
   "metadata": {},
   "outputs": [],
   "source": [
    "# Instantiate a CAREamist from a checkpoint\n",
    "other_careamist = CAREamist(source=\"checkpoints/last.ckpt\")\n",
    "\n",
    "# And predict\n",
    "new_preds = other_careamist.predict(source=train_path, tile_size=(256, 256))\n",
    "\n",
    "# Show the full image\n",
    "fig, ax = plt.subplots(1, 2, figsize=(10, 5))\n",
    "ax[0].imshow(train_image, cmap=\"gray\")\n",
    "ax[1].imshow(new_preds.squeeze(), cmap=\"gray\")"
   ]
  },
  {
   "cell_type": "markdown",
   "metadata": {},
   "source": [
    "<div class=\"alert alert-block alert-success\"><h1>Checkpoint 3: Prediction</h1>\n",
    "</div>\n",
    "\n",
    "<hr style=\"height:2px;\">\n",
    "\n",
    "## Part 5\n",
    "\n",
    "Have you heard of the [BioImage Model Zoo](https://bioimage.io/#/)? It provides a format for FAIR AI models and allows\n",
    "researchers to exchange and reproduce models. "
   ]
  },
  {
   "cell_type": "code",
   "execution_count": null,
   "metadata": {},
   "outputs": [],
   "source": [
    "# Export model as BMZ\n",
    "careamist.export_to_bmz(\n",
    "    path=\"n2v_model.zip\",\n",
    "    name=\"SEM_N2V\",\n",
    "    authors= [{\"name\": \"Jane\", \"affiliation\": \"Doe University\"}]\n",
    ")"
   ]
  },
  {
   "cell_type": "markdown",
   "metadata": {},
   "source": [
    "<div class=\"alert alert-block alert-warning\"><h3>Take away questions</h3>\n",
    "\n",
    "- Which is the best network for Noise2Void, the one at the end of the training or the one with lowest validation loss?\n",
    "\n",
    "- Is validation useful in Noise2Void?\n",
    "\n",
    "- We predicted on the same image we trained on, is that a good idea?\n",
    "\n",
    "- Can you reuse the model on another image?\n",
    "\n",
    "- Can you train on images with multiple channels? RGB images? Biological channels (GFP, RFP, DAPI)?\n",
    "\n",
    "- N2V training is unsupervised, how can you be sure that the training worked and is not hallucinating?\n",
    "</div>\n",
    "\n"
   ]
  },
  {
   "cell_type": "markdown",
   "metadata": {},
   "source": [
    "<hr style=\"height:2px;\"><div class=\"alert alert-block alert-success\"><h1>End of the exercise</h1>\n",
    "</div>"
   ]
  },
  {
   "cell_type": "markdown",
   "metadata": {},
   "source": [
    "\n",
    "<div class=\"alert alert-block alert-info\"><h3><b>Bonus</b></h3>\n",
    "\n",
    "There are multiple ways of dealing with the artefacts observed in Task 4 (called \"checkboard artefacts\"). One is to use a different algorithm, which is exactly\n",
    "what we are going to do in the next exercise.\n",
    "\n",
    "Another one is to use `N2V2`! While this new iteration of Noise2Void is not impervious to strong correlation in the noise,\n",
    "it deals really well with the checkboard artefacts.\n",
    "\n",
    "\n",
    "How to use N2V2? It is as simple as setting `use_n2v2` to `True` in the configuration. Try it out and see if it improves the results!\n",
    "</div>\n"
   ]
  }
 ],
 "metadata": {
  "kernelspec": {
   "display_name": "cmcs_l",
   "language": "python",
   "name": "python3"
  },
  "language_info": {
   "codemirror_mode": {
    "name": "ipython",
    "version": 3
   },
   "file_extension": ".py",
   "mimetype": "text/x-python",
   "name": "python",
   "nbconvert_exporter": "python",
   "pygments_lexer": "ipython3",
   "version": "3.8.19"
  }
 },
 "nbformat": 4,
 "nbformat_minor": 2
}
